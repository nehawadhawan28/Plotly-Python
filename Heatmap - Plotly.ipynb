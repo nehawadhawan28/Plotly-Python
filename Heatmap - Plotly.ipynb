{
 "cells": [
  {
   "cell_type": "code",
   "execution_count": 5,
   "metadata": {},
   "outputs": [
    {
     "data": {
      "text/plain": [
       "'file:///Users/Neha/Documents/Plotly-Dashboards-with-Dash-master/Data/Heatmap.html'"
      ]
     },
     "execution_count": 5,
     "metadata": {},
     "output_type": "execute_result"
    }
   ],
   "source": [
    "#creating a heatmap\n",
    "\n",
    "import plotly.offline as pyo\n",
    "import plotly.graph_objs as go\n",
    "import pandas as pd\n",
    "df=pd.read_csv('flights.csv')\n",
    "data=[go.Heatmap(x=df['year'],y=df['month'],z=df['passengers'].values.tolist(),colorscale='Jet')]\n",
    "layout=go.Layout(title='Passenger Traffic')\n",
    "\n",
    "fig=go.Figure(data=data,layout=layout)\n",
    "pyo.plot(fig,filename='Heatmap.html')"
   ]
  },
  {
   "cell_type": "code",
   "execution_count": 6,
   "metadata": {},
   "outputs": [
    {
     "name": "stdout",
     "output_type": "stream",
     "text": [
      "This is the format of your plot grid:\n",
      "[ (1,1) x1,y1 ]  [ (1,2) x2,y1 ]  [ (1,3) x3,y1 ]\n",
      "\n"
     ]
    },
    {
     "data": {
      "text/plain": [
       "'file:///Users/Neha/Documents/Plotly-Dashboards-with-Dash-master/Data/AllThree.html'"
      ]
     },
     "execution_count": 6,
     "metadata": {},
     "output_type": "execute_result"
    }
   ],
   "source": [
    "#######\n",
    "# Side-by-side heatmaps for Sitka, Alaska,\n",
    "# Santa Barbara, California and Yuma, Arizona\n",
    "# using a shared temperature scale.\n",
    "######\n",
    "import plotly.offline as pyo\n",
    "import plotly.graph_objs as go\n",
    "from plotly import tools\n",
    "import pandas as pd\n",
    "\n",
    "df1 = pd.read_csv('../data/2010SitkaAK.csv')\n",
    "df2 = pd.read_csv('../data/2010SantaBarbaraCA.csv')\n",
    "df3 = pd.read_csv('../data/2010YumaAZ.csv')\n",
    "\n",
    "trace1 = go.Heatmap(\n",
    "    x=df1['DAY'],\n",
    "    y=df1['LST_TIME'],\n",
    "    z=df1['T_HR_AVG'],\n",
    "    colorscale='Jet',\n",
    "    zmin = 5, zmax = 40 # add max/min color values to make each plot consistent\n",
    ")\n",
    "trace2 = go.Heatmap(\n",
    "    x=df2['DAY'],\n",
    "    y=df2['LST_TIME'],\n",
    "    z=df2['T_HR_AVG'],\n",
    "    colorscale='Jet',\n",
    "    zmin = 5, zmax = 40\n",
    ")\n",
    "trace3 = go.Heatmap(\n",
    "    x=df3['DAY'],\n",
    "    y=df3['LST_TIME'],\n",
    "    z=df3['T_HR_AVG'],\n",
    "    colorscale='Jet',\n",
    "    zmin = 5, zmax = 40\n",
    ")\n",
    "\n",
    "fig = tools.make_subplots(rows=1, cols=3,\n",
    "    subplot_titles=('Sitka, AK','Santa Barbara, CA', 'Yuma, AZ'),\n",
    "    shared_yaxes = True,  # this makes the hours appear only on the left\n",
    ")\n",
    "fig.append_trace(trace1, 1, 1)\n",
    "fig.append_trace(trace2, 1, 2)\n",
    "fig.append_trace(trace3, 1, 3)\n",
    "\n",
    "fig['layout'].update(      # access the layout directly!\n",
    "    title='Hourly Temperatures, June 1-7, 2010'\n",
    ")\n",
    "pyo.plot(fig, filename='AllThree.html')\n",
    "\n"
   ]
  },
  {
   "cell_type": "code",
   "execution_count": null,
   "metadata": {},
   "outputs": [],
   "source": []
  }
 ],
 "metadata": {
  "kernelspec": {
   "display_name": "Python 3",
   "language": "python",
   "name": "python3"
  },
  "language_info": {
   "codemirror_mode": {
    "name": "ipython",
    "version": 3
   },
   "file_extension": ".py",
   "mimetype": "text/x-python",
   "name": "python",
   "nbconvert_exporter": "python",
   "pygments_lexer": "ipython3",
   "version": "3.6.5"
  }
 },
 "nbformat": 4,
 "nbformat_minor": 2
}
