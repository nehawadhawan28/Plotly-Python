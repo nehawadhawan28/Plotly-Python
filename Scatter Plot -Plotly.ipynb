{
 "cells": [
  {
   "cell_type": "code",
   "execution_count": null,
   "metadata": {},
   "outputs": [],
   "source": [
    "#creating a scatterplot\n",
    "\n",
    "import plotly.offline as pyo\n",
    "import plotly.graph_objs as go\n",
    "import numpy as np\n",
    "np.random.seed(42)\n",
    "rand_x=np.random.randint(1,101,100)\n",
    "rand_y=np.random.randint(1,101,100)\n",
    "data=[go.Scatter(x=rand_x,y=rand_y,mode='markers',\n",
    "                     marker=dict(\n",
    "                     size=12,\n",
    "                     color='rgb(240,24,24)',\n",
    "                     symbol='circle'),\n",
    "                     line={'width':2}\n",
    "                )]\n",
    "layout=go.Layout(title='My first scatter',xaxis=dict(title='x axis'),\n",
    "                 yaxis=dict(title='y axis'),hovermode='closest')\n",
    "fig=go.Figure(data=data,layout=layout)\n",
    "pyo.plot(fig,filename='scatter.html')"
   ]
  }
 ],
 "metadata": {
  "kernelspec": {
   "display_name": "Python 3",
   "language": "python",
   "name": "python3"
  },
  "language_info": {
   "codemirror_mode": {
    "name": "ipython",
    "version": 3
   },
   "file_extension": ".py",
   "mimetype": "text/x-python",
   "name": "python",
   "nbconvert_exporter": "python",
   "pygments_lexer": "ipython3",
   "version": "3.6.5"
  }
 },
 "nbformat": 4,
 "nbformat_minor": 2
}
